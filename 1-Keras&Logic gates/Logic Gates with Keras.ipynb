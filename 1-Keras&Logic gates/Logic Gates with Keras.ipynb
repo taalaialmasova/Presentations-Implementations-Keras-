{
 "cells": [
  {
   "cell_type": "markdown",
   "metadata": {},
   "source": [
    "# Keras ile lojik kapıların implementasyonu - (AND,OR,XOR,XNOR,NAND)"
   ]
  },
  {
   "cell_type": "code",
   "execution_count": 7,
   "metadata": {},
   "outputs": [],
   "source": [
    "import tensorflow as tf\n",
    "import pandas as pd\n",
    "import numpy as np\n",
    "from keras.models import Sequential\n",
    "from keras.layers import Dense\n",
    "from keras.utils.vis_utils import plot_model\n",
    "import os\n",
    "\n"
   ]
  },
  {
   "cell_type": "markdown",
   "metadata": {},
   "source": [
    "# AND Gate"
   ]
  },
  {
   "cell_type": "code",
   "execution_count": 8,
   "metadata": {},
   "outputs": [],
   "source": [
    "X = np.array([\n",
    "    [0,0],\n",
    "    [0,1],\n",
    "    [1,0],\n",
    "    [1,1]\n",
    "])\n",
    "and_Y = np.array([[0],[0],[0],[1]])"
   ]
  },
  {
   "cell_type": "code",
   "execution_count": 9,
   "metadata": {},
   "outputs": [
    {
     "name": "stdout",
     "output_type": "stream",
     "text": [
      "_________________________________________________________________\n",
      "Layer (type)                 Output Shape              Param #   \n",
      "=================================================================\n",
      "dense_2 (Dense)              (None, 1)                 3         \n",
      "=================================================================\n",
      "Total params: 3\n",
      "Trainable params: 3\n",
      "Non-trainable params: 0\n",
      "_________________________________________________________________\n"
     ]
    }
   ],
   "source": [
    "\n",
    "AND=Sequential()\n",
    "AND.add(Dense(1, input_dim=2, activation='sigmoid'))\n",
    "AND.compile(loss='binary_crossentropy', optimizer='adam')\n",
    "AND.summary()"
   ]
  },
  {
   "cell_type": "code",
   "execution_count": null,
   "metadata": {},
   "outputs": [],
   "source": [
    "history = AND.fit(X, and_Y, epochs=1500, verbose=1)\n"
   ]
  },
  {
   "cell_type": "code",
   "execution_count": 12,
   "metadata": {},
   "outputs": [
    {
     "data": {
      "text/plain": [
       "array([[0.22192268],\n",
       "       [0.3714459 ],\n",
       "       [0.40155524],\n",
       "       [0.58163506]], dtype=float32)"
      ]
     },
     "execution_count": 12,
     "metadata": {},
     "output_type": "execute_result"
    }
   ],
   "source": [
    "predictions=AND.predict(X)\n",
    "\n",
    "predictions"
   ]
  },
  {
   "cell_type": "code",
   "execution_count": 13,
   "metadata": {},
   "outputs": [
    {
     "name": "stdout",
     "output_type": "stream",
     "text": [
      "input:  [0 0] = 0\n",
      "input:  [0 1] = 0\n",
      "input:  [1 0] = 0\n",
      "input:  [1 1] = 1\n"
     ]
    }
   ],
   "source": [
    "k=0\n",
    "for i in predictions:\n",
    "    \n",
    "    if( i>= 0.5):\n",
    "        print(\"input: \", X[k],\"=\" ,1)\n",
    "    else:\n",
    "        \n",
    "        print(\"input: \", X[k],\"=\" ,0)\n",
    "    k+=1"
   ]
  },
  {
   "cell_type": "markdown",
   "metadata": {},
   "source": [
    "# OR"
   ]
  },
  {
   "cell_type": "code",
   "execution_count": null,
   "metadata": {},
   "outputs": [],
   "source": [
    "or_Y = np.array([[0],[1],[1],[1]])\n",
    "\n",
    "OR=Sequential()\n",
    "OR.add(Dense(2, input_dim=2, activation='tanh'))\n",
    "OR.add(Dense(1, activation='sigmoid'))\n",
    "\n",
    "OR.compile(loss='binary_crossentropy', optimizer='adam')\n",
    "print(OR.summary())\n",
    "history = OR.fit(X, or_Y, epochs=1350)"
   ]
  },
  {
   "cell_type": "code",
   "execution_count": 101,
   "metadata": {},
   "outputs": [
    {
     "name": "stdout",
     "output_type": "stream",
     "text": [
      "input:  [0 0] = 0\n",
      "input:  [0 1] = 1\n",
      "input:  [1 0] = 1\n",
      "input:  [1 1] = 1\n"
     ]
    }
   ],
   "source": [
    "#predict\n",
    "predictions=OR.predict(X)\n",
    "k=0\n",
    "for i in predictions:\n",
    "    \n",
    "    if( i> 0.5):\n",
    "        print(\"input: \", X[k],\"=\" ,1)\n",
    "    else:\n",
    "        \n",
    "        print(\"input: \", X[k],\"=\" ,0)\n",
    "    k+=1"
   ]
  },
  {
   "cell_type": "markdown",
   "metadata": {},
   "source": [
    "# XOR"
   ]
  },
  {
   "cell_type": "code",
   "execution_count": 102,
   "metadata": {},
   "outputs": [
    {
     "name": "stdout",
     "output_type": "stream",
     "text": [
      "_________________________________________________________________\n",
      "Layer (type)                 Output Shape              Param #   \n",
      "=================================================================\n",
      "dense_62 (Dense)             (None, 4)                 12        \n",
      "_________________________________________________________________\n",
      "dense_63 (Dense)             (None, 1)                 5         \n",
      "=================================================================\n",
      "Total params: 17\n",
      "Trainable params: 17\n",
      "Non-trainable params: 0\n",
      "_________________________________________________________________\n",
      "None\n"
     ]
    }
   ],
   "source": [
    "xor_Y = np.array([[0],[1],[1],[0]])\n",
    "\n",
    "XOR=Sequential()\n",
    "XOR.add(Dense(4, input_dim=2, activation='relu'))\n",
    "XOR.add(Dense(1, activation='sigmoid'))\n",
    "XOR.compile(loss='binary_crossentropy', optimizer='adam')#min kac tane node toplam olarak\n",
    "print(XOR.summary())"
   ]
  },
  {
   "cell_type": "code",
   "execution_count": null,
   "metadata": {},
   "outputs": [],
   "source": [
    "\n",
    "history = XOR.fit(X, xor_Y, epochs=700)\n"
   ]
  },
  {
   "cell_type": "code",
   "execution_count": 64,
   "metadata": {},
   "outputs": [
    {
     "data": {
      "text/plain": [
       "array([[0.3496899 ],\n",
       "       [0.6884465 ],\n",
       "       [0.64192325],\n",
       "       [0.34956402]], dtype=float32)"
      ]
     },
     "execution_count": 64,
     "metadata": {},
     "output_type": "execute_result"
    }
   ],
   "source": [
    "predictions=XOR.predict(X)\n",
    "predictions"
   ]
  },
  {
   "cell_type": "code",
   "execution_count": 65,
   "metadata": {},
   "outputs": [
    {
     "name": "stdout",
     "output_type": "stream",
     "text": [
      "input:  [0 0] = 0\n",
      "input:  [0 1] = 1\n",
      "input:  [1 0] = 1\n",
      "input:  [1 1] = 0\n"
     ]
    }
   ],
   "source": [
    "#predict\n",
    "\n",
    "k=0\n",
    "for i in predictions:\n",
    "    \n",
    "    if( i> 0.5):\n",
    "        print(\"input: \", X[k],\"=\" ,1)\n",
    "    else:\n",
    "        \n",
    "        print(\"input: \", X[k],\"=\" ,0)\n",
    "    k+=1"
   ]
  },
  {
   "cell_type": "markdown",
   "metadata": {},
   "source": [
    "# XNOR"
   ]
  },
  {
   "cell_type": "code",
   "execution_count": 103,
   "metadata": {},
   "outputs": [
    {
     "name": "stdout",
     "output_type": "stream",
     "text": [
      "_________________________________________________________________\n",
      "Layer (type)                 Output Shape              Param #   \n",
      "=================================================================\n",
      "dense_64 (Dense)             (None, 4)                 12        \n",
      "_________________________________________________________________\n",
      "dense_65 (Dense)             (None, 1)                 5         \n",
      "=================================================================\n",
      "Total params: 17\n",
      "Trainable params: 17\n",
      "Non-trainable params: 0\n",
      "_________________________________________________________________\n",
      "None\n"
     ]
    }
   ],
   "source": [
    "xNor_Y = np.array([[1],[0],[0],[1]])\n",
    "\n",
    "XNOR=Sequential()\n",
    "XNOR.add(Dense(4, input_dim=2, activation='relu'))\n",
    "XNOR.add(Dense(1, activation='sigmoid'))\n",
    "XNOR.compile(loss='binary_crossentropy', optimizer='adam',  metrics=['acc'])\n",
    "print(XNOR.summary())"
   ]
  },
  {
   "cell_type": "code",
   "execution_count": null,
   "metadata": {},
   "outputs": [],
   "source": [
    "\n",
    "history = XNOR.fit(X, xNor_Y, epochs=1500)"
   ]
  },
  {
   "cell_type": "code",
   "execution_count": 67,
   "metadata": {},
   "outputs": [
    {
     "name": "stdout",
     "output_type": "stream",
     "text": [
      "input:  [0 0] = 1\n",
      "input:  [0 1] = 0\n",
      "input:  [1 0] = 0\n",
      "input:  [1 1] = 1\n"
     ]
    }
   ],
   "source": [
    "#predict\n",
    "predictions=XNOR.predict(X)\n",
    "k=0\n",
    "for i in predictions:\n",
    "    \n",
    "    if( i> 0.5):\n",
    "        print(\"input: \", X[k],\"=\" ,1)\n",
    "    else:\n",
    "        \n",
    "        print(\"input: \", X[k],\"=\" ,0)\n",
    "    k+=1"
   ]
  },
  {
   "cell_type": "markdown",
   "metadata": {},
   "source": [
    "# NAND"
   ]
  },
  {
   "cell_type": "code",
   "execution_count": 104,
   "metadata": {},
   "outputs": [
    {
     "name": "stdout",
     "output_type": "stream",
     "text": [
      "_________________________________________________________________\n",
      "Layer (type)                 Output Shape              Param #   \n",
      "=================================================================\n",
      "dense_66 (Dense)             (None, 1)                 3         \n",
      "=================================================================\n",
      "Total params: 3\n",
      "Trainable params: 3\n",
      "Non-trainable params: 0\n",
      "_________________________________________________________________\n",
      "None\n"
     ]
    }
   ],
   "source": [
    "nand_Y = np.array([[1],[1],[1],[0]])\n",
    "\n",
    "NAND=Sequential()\n",
    "NAND.add(Dense(1, input_dim=2, activation='sigmoid'))\n",
    "NAND.compile(loss='binary_crossentropy', optimizer='adam')\n",
    "print(NAND.summary())"
   ]
  },
  {
   "cell_type": "code",
   "execution_count": null,
   "metadata": {},
   "outputs": [],
   "source": [
    "\n",
    "history = NAND.fit(X, nand_Y, epochs=1500)"
   ]
  },
  {
   "cell_type": "code",
   "execution_count": 75,
   "metadata": {},
   "outputs": [
    {
     "name": "stdout",
     "output_type": "stream",
     "text": [
      "input:  [0 0] = 1\n",
      "input:  [0 1] = 1\n",
      "input:  [1 0] = 1\n",
      "input:  [1 1] = 0\n"
     ]
    }
   ],
   "source": [
    "#predict\n",
    "#predict\n",
    "predictions=NAND.predict(X)\n",
    "k=0\n",
    "for i in predictions:\n",
    "    \n",
    "    if( i> 0.5):\n",
    "        print(\"input: \", X[k],\"=\" ,1)\n",
    "    else:\n",
    "        \n",
    "        print(\"input: \", X[k],\"=\" ,0)\n",
    "    k+=1"
   ]
  },
  {
   "cell_type": "code",
   "execution_count": null,
   "metadata": {},
   "outputs": [],
   "source": []
  },
  {
   "cell_type": "code",
   "execution_count": null,
   "metadata": {},
   "outputs": [],
   "source": []
  }
 ],
 "metadata": {
  "kernelspec": {
   "display_name": ".cpuENV",
   "language": "python",
   "name": ".cpuenv"
  },
  "language_info": {
   "codemirror_mode": {
    "name": "ipython",
    "version": 3
   },
   "file_extension": ".py",
   "mimetype": "text/x-python",
   "name": "python",
   "nbconvert_exporter": "python",
   "pygments_lexer": "ipython3",
   "version": "3.6.8"
  }
 },
 "nbformat": 4,
 "nbformat_minor": 2
}
